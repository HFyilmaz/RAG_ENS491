{
 "cells": [
  {
   "cell_type": "code",
   "execution_count": 4,
   "id": "427fb0e5-beae-4f34-82a3-ea2cac8530a2",
   "metadata": {},
   "outputs": [],
   "source": [
    "from dotenv import load_dotenv\n",
    "import os\n",
    "\n",
    "load_dotenv()\n",
    "gpt_key = os.getenv(\"GPT\")\n",
    "lc_key = os.getenv(\"LC\")\n",
    "hf_key = os.getenv(\"HF\")\n",
    "\n"
   ]
  },
  {
   "cell_type": "code",
   "execution_count": 5,
   "id": "6f701918-9dab-4f58-a1f9-9fa9d899f52a",
   "metadata": {},
   "outputs": [],
   "source": [
    "import getpass\n",
    "import os\n",
    "\n",
    "os.environ[\"LANGCHAIN_TRACING_V2\"] = \"true\"\n",
    "os.environ[\"LANGCHAIN_API_KEY\"] = lc_key"
   ]
  },
  {
   "cell_type": "code",
   "execution_count": 6,
   "id": "5bf23064-56b1-491a-83a6-d9f5e12a4f58",
   "metadata": {},
   "outputs": [],
   "source": [
    "import getpass\n",
    "import os\n",
    "\n",
    "os.environ[\"OPENAI_API_KEY\"] = gpt_key\n",
    "\n",
    "from langchain_openai import ChatOpenAI\n",
    "\n",
    "model = ChatOpenAI(model=\"gpt-3.5-turbo-instruct-0914\")"
   ]
  },
  {
   "cell_type": "code",
   "execution_count": null,
   "id": "adfa6d8d-53e0-44b1-9c5f-0dae2af16fcf",
   "metadata": {},
   "outputs": [],
   "source": []
  }
 ],
 "metadata": {
  "kernelspec": {
   "display_name": "Python 3 (ipykernel)",
   "language": "python",
   "name": "python3"
  },
  "language_info": {
   "codemirror_mode": {
    "name": "ipython",
    "version": 3
   },
   "file_extension": ".py",
   "mimetype": "text/x-python",
   "name": "python",
   "nbconvert_exporter": "python",
   "pygments_lexer": "ipython3",
   "version": "3.11.7"
  }
 },
 "nbformat": 4,
 "nbformat_minor": 5
}
