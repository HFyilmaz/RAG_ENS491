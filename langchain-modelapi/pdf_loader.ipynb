{
 "cells": [
  {
   "cell_type": "code",
   "execution_count": 1,
   "metadata": {},
   "outputs": [],
   "source": [
    "from langchain_unstructured import UnstructuredLoader\n",
    "import os\n",
    "os.environ[\"TF_ENABLE_ONEDNN_OPTS\"] = \"0\"\n",
    "\n",
    "\n",
    "file_paths=[\"../data/R89e.pdf\"]"
   ]
  },
  {
   "cell_type": "code",
   "execution_count": 3,
   "metadata": {},
   "outputs": [],
   "source": [
    "# List of paths are given as parameters. If succeeds, it returns the documents for all pages and pdfs. If not, it returns 0\n",
    "def unstructured_load_pdf(file_paths):\n",
    "    try:\n",
    "        loader = UnstructuredLoader(file_paths)\n",
    "        docs = loader.load()\n",
    "        \n",
    "        if not docs:\n",
    "            print(\"Error: No documents loaded.\")\n",
    "            return 0\n",
    "\n",
    "        return docs\n",
    "    except Exception as e:\n",
    "        print(f\"Error loading documents: {e}\")\n",
    "        return 0"
   ]
  },
  {
   "cell_type": "code",
   "execution_count": 4,
   "metadata": {},
   "outputs": [
    {
     "name": "stderr",
     "output_type": "stream",
     "text": [
      "INFO: NumExpr defaulting to 8 threads.\n",
      "INFO: pikepdf C++ to Python logger bridge initialized\n"
     ]
    }
   ],
   "source": [
    "docs= unstructured_load_pdf(file_paths)"
   ]
  },
  {
   "cell_type": "code",
   "execution_count": 7,
   "metadata": {},
   "outputs": [],
   "source": [
    "# Given page numbers, this function prints out the content of corresponding pages.\n",
    "def unstructured_print_page_content(docs, page_numbers):\n",
    "    if docs is None:\n",
    "        print(\"Error: 'docs' is None. Ensure documents are loaded correctly.\")\n",
    "        return\n",
    "\n",
    "    for i in page_numbers:\n",
    "        corresponding_page_docs = [doc for doc in docs if doc.metadata.get(\"page_number\") == i]\n",
    "\n",
    "        print(f\"Page {corresponding_page_docs[0].metadata.get('page_number')}:\")\n",
    "        for doc in corresponding_page_docs:\n",
    "            print(doc.page_content)"
   ]
  },
  {
   "cell_type": "code",
   "execution_count": 8,
   "metadata": {},
   "outputs": [],
   "source": [
    "# Given page numbers, this function returns the documents for corresponding pages.\n",
    "def unstructured_return_specific_pages(docs, page_numbers):\n",
    "    res = []\n",
    "    for i in page_numbers:\n",
    "        corresponding_page_docs = [doc for doc in docs if doc.metadata.get(\"page_number\") == i]\n",
    "\n",
    "        for doc in corresponding_page_docs:\n",
    "            res.append(doc)\n",
    "\n",
    "    return res"
   ]
  },
  {
   "cell_type": "code",
   "execution_count": null,
   "metadata": {},
   "outputs": [],
   "source": [
    "# Does not work right now, if we are going to need it. We can fix it.\n",
    "def retrieve_specific_section(docs, sectionName):\n",
    "    section_docs = []\n",
    "    parent_id = -1\n",
    "    for doc in docs:\n",
    "        if doc.metadata[\"category\"] == \"Title\" and sectionName in doc.page_content:\n",
    "            parent_id = doc.metadata[\"element_id\"]\n",
    "\n",
    "        if doc.metadata.get(\"parent_id\") == parent_id:\n",
    "            section_docs.append(doc)\n",
    "\n",
    "    for doc in section_docs:\n",
    "        print(doc.section_docs)\n",
    "\n",
    "    return section_docs"
   ]
  },
  {
   "cell_type": "code",
   "execution_count": 9,
   "metadata": {},
   "outputs": [],
   "source": [
    "def document_loading():\n",
    "    docs = unstructured_load_pdf(file_paths)\n",
    "    if(docs == 0):\n",
    "        return 0\n",
    "    \n",
    "    unstructured_print_page_content(docs, range(12, 14))\n",
    "\n",
    "    specific_docs = unstructured_return_specific_pages(docs, range(12, 14))\n",
    "    print(specific_docs[0].metadata)\n",
    "    print(specific_docs[0].page_content)\n"
   ]
  },
  {
   "cell_type": "code",
   "execution_count": 10,
   "metadata": {},
   "outputs": [
    {
     "name": "stdout",
     "output_type": "stream",
     "text": [
      "Page 12:\n",
      "E/ECE/324\n",
      "E/ECE/TRANS/505)\n",
      ") pev.1/Add.88\n",
      "Regulation No. 89\n",
      "page 12\n",
      "The competent authority issuing an extension of approval shall assign a series number to each communication form drawn up for\n",
      "such an extension and inform thereof the other Parties to the\n",
      "1958 Agreement applying this Regulation by means of a communication form conforming to the model in annex 1 to this Regulation.\n",
      "CONFORMITY OF PRODUCTION\n",
      "Every vehicle approved under this Regulation shall be so manufactured as to conform to the type approved by meeting the requirements set out in paragraph 5 above.\n",
      "In order to verify that the requirements of paragraph 7.1. are met, suitable checks of the production shall be carried out.\n",
      "The holder of the approval shall, in particular:\n",
      "Ensure existence of procedures for effective quality control of the vehicle;\n",
      "Have access to the testing equipment necessary for checking conformity to each approved type;\n",
      "Ensure that test result data are recorded and that the annexed documents remain available for a period to be determined in agreement with the administrative department;\n",
      "Analyse the results of each type of test, in order to verify and ensure the consistency of characteristics of the vehicle, making allowance for permissible variations in industrial production;\n",
      "Ensure that for each type of vehicle sufficient checks and tests are carried out in accordance with the procedures approved with the competent authority;\n",
      "Ensure that any set of samples or test components giving evidence of non-conformity in the type of test in question shall give rise to a further sampling and test. All necessary steps shall be taken to restore conformity of the corresponding production.\n",
      "The competent authority which has granted type approval may at any time verify the conformity control methods applied in each production unit.\n",
      "At every inspection, the test records and production records shall be presented to the visiting inspector.\n",
      "Page 13:\n",
      "10.\n",
      "10.\n",
      "E/ECE/324 ) E/ECE/TRANS/505) Regulation No. 89 page 13\n",
      "Rev.1/Add.88\n",
      "The inspector may select samples at random to be tested in the manufacturer’s laboratory. The minimum number of samples may be determined according to the results of the manufacturer’s own checks.\n",
      "Where the quality level appears unsatisfactory or it seems necessary to verify the validity of the tests carried out in application of paragraph 7.4.2., the inspector shall select samples to be sent to the technical service which conducted the type approval tests.\n",
      "The competent authority may carry out any test prescribed in this Regulation. The normal frequency of inspections authorized by the competent authority shall be one every two years. In cases where unsatisfactory results are found during one of these inspections, the competent authority shall ensure that all necessary steps are taken to restore conformity of production as rapidly as possible.\n",
      "PENALTIES FOR NON-CONFORMITY OF PRODUCTION\n",
      "The approval granted in respect of a vehicle type pursuant to this Regulation may be withdrawn if the requirements laid down in paragraph 5 above are not complied with.\n",
      "If a Contracting Party to the 1958 Agreement applying this Regulation withdraws an approval it has previously granted, it shall forthwith so notify the other Contracting Parties applying this Regulation, by means of a communication form conforming to the model in annex 1 to this Regulation.\n",
      "PRODUCTION DEFINITELY DISCONTINUED\n",
      "If the holder of the approval completely ceases to manufacture a type of vehicle approved in accordance with this Regulation, he shall so inform the authority which granted the approval. Upon receiving the relevant communication, that authority shall inform thereof the other Parties to the 1958 Agreement applying this Regulation by means of a communication form conforming to the model in annex 1 to this Regulation.\n",
      "NAMES AND ADDRESSES OF TECHNICAL SERVICES RESPONSIBLE FOR CONDUCTING APPROVAL TESTS AND OF ADMINISTRATIVE DEPARTMENTS\n",
      "The Contracting Parties to the 1958 Agreement applying this Regulation shall communicate to the United Nations secretariat the names and addresses of the technical services responsible for conducting approval tests and of the administrative departments which grant approval and to which forms certifying approval or extension, or refusal or withdrawal of approval or production definitely discontinued, issued in other countries, are to be sent.\n",
      "{'source': '../data/R89e.pdf', 'coordinates': {'points': ((169.0, 117.0), (169.0, 142.0), (318.0, 142.0), (318.0, 117.0)), 'system': 'PixelSpace', 'layout_width': 1728, 'layout_height': 2337}, 'filetype': 'application/pdf', 'languages': ['eng'], 'last_modified': '2024-11-14T16:21:16', 'page_number': 12, 'parent_id': '4a7c2c219db348235f989a5ac0e72910', 'file_directory': '../data', 'filename': 'R89e.pdf', 'category': 'UncategorizedText', 'element_id': '7e9cbf9814166329a0d6da81b8aa546b'}\n",
      "E/ECE/324\n"
     ]
    }
   ],
   "source": [
    "document_loading()"
   ]
  },
  {
   "cell_type": "code",
   "execution_count": null,
   "metadata": {},
   "outputs": [],
   "source": []
  }
 ],
 "metadata": {
  "kernelspec": {
   "display_name": "Python 3 (ipykernel)",
   "language": "python",
   "name": "python3"
  },
  "language_info": {
   "codemirror_mode": {
    "name": "ipython",
    "version": 3
   },
   "file_extension": ".py",
   "mimetype": "text/x-python",
   "name": "python",
   "nbconvert_exporter": "python",
   "pygments_lexer": "ipython3",
   "version": "3.11.7"
  }
 },
 "nbformat": 4,
 "nbformat_minor": 4
}
