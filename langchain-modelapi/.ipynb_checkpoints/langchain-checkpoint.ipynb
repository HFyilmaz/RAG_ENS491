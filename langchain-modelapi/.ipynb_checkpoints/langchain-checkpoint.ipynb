{
 "cells": [
  {
   "cell_type": "code",
   "execution_count": 1,
   "id": "427fb0e5-beae-4f34-82a3-ea2cac8530a2",
   "metadata": {},
   "outputs": [],
   "source": [
    "from dotenv import load_dotenv\n",
    "import os\n",
    "\n",
    "load_dotenv()\n",
    "gpt_key = os.getenv(\"GPT\")\n",
    "lc_key = os.getenv(\"LC\")\n",
    "hf_key = os.getenv(\"HF\")\n",
    "\n"
   ]
  },
  {
   "cell_type": "markdown",
   "id": "c7a253b3-14ff-4814-afec-f82f8446216c",
   "metadata": {},
   "source": [
    "# Load documents page by page"
   ]
  },
  {
   "cell_type": "code",
   "execution_count": 2,
   "id": "5519684a-234c-4a97-9607-6031a0e8fff3",
   "metadata": {},
   "outputs": [],
   "source": [
    "from langchain.document_loaders.pdf import PyPDFDirectoryLoader\n",
    "\n",
    "def load_documents():\n",
    "    document_loader = PyPDFDirectoryLoader(\"../data-futbol\")\n",
    "    return document_loader.load()"
   ]
  },
  {
   "cell_type": "code",
   "execution_count": 3,
   "id": "e8064d5b-9fd2-4aea-93d5-315c916928a6",
   "metadata": {},
   "outputs": [],
   "source": [
    "documents=load_documents()"
   ]
  },
  {
   "cell_type": "markdown",
   "id": "bc356c0f-0267-4d7c-b861-4d4171c6b298",
   "metadata": {},
   "source": [
    "# Split each page further into chunks"
   ]
  },
  {
   "cell_type": "code",
   "execution_count": 4,
   "id": "73b7cc54-94d5-47cb-9096-dc645f6ddb5f",
   "metadata": {},
   "outputs": [],
   "source": [
    "from langchain_text_splitters import RecursiveCharacterTextSplitter\n",
    "from langchain.schema.document import Document\n",
    "\n",
    "def split_documents(documents: list[Document]):\n",
    "    text_splitter = RecursiveCharacterTextSplitter(\n",
    "        chunk_size=800,\n",
    "        chunk_overlap=80,\n",
    "        length_function=len,\n",
    "        is_separator_regex=False,\n",
    "    )\n",
    "    return text_splitter.split_documents(documents)"
   ]
  },
  {
   "cell_type": "code",
   "execution_count": 5,
   "id": "5ecbe7fa-df3f-495c-b5ce-4f9c49350d5d",
   "metadata": {},
   "outputs": [],
   "source": [
    "chunks = split_documents(documents)"
   ]
  },
  {
   "cell_type": "markdown",
   "id": "3e329876-f6cb-4ab0-aec6-d00a0c8b74e2",
   "metadata": {},
   "source": [
    "# EMBEDDINGS"
   ]
  },
  {
   "cell_type": "code",
   "execution_count": 6,
   "id": "16279420-0504-434b-9be3-3fb2b902d0cc",
   "metadata": {},
   "outputs": [],
   "source": [
    "from sentence_transformers import SentenceTransformer\n",
    "\n",
    "# Wrapper class to make SentenceTransformer compatible\n",
    "class EmbeddingWrapper:\n",
    "    def __init__(self, model_name='sentence-transformers/all-mpnet-base-v2'):\n",
    "        self.model = SentenceTransformer(model_name)\n",
    "    \n",
    "    # The vector store expects this method\n",
    "    def embed_documents(self, texts):\n",
    "        embeddings = self.model.encode(texts)\n",
    "        return embeddings.tolist()  # Ensure embeddings are a list, not an array\n",
    "\n",
    "    # Method to embed a single query\n",
    "    def embed_query(self, query):\n",
    "        return self.model.encode([query])[0]\n",
    "\n",
    "def get_embedding_function():\n",
    "    # Return an instance of the wrapper\n",
    "    return EmbeddingWrapper()"
   ]
  },
  {
   "cell_type": "markdown",
   "id": "8cab1921-698a-428c-be0d-88b744dbe276",
   "metadata": {},
   "source": [
    "# Add a unique id for each chunk to avoid multiple inserts for the same chunk to the vector database"
   ]
  },
  {
   "cell_type": "code",
   "execution_count": 7,
   "id": "7b12e440-df6f-416d-8610-58d6c5b7df32",
   "metadata": {},
   "outputs": [],
   "source": [
    "\n",
    "def set_chunk_ids(chunks):\n",
    "    last_page_id = None\n",
    "    current_chunk_index = 0\n",
    "    for chunk in chunks:\n",
    "        source = chunk.metadata.get(\"source\")\n",
    "        page = chunk.metadata.get(\"page\")\n",
    "        current_page_id = f\"{source}:{page}\"\n",
    "    \n",
    "        if current_page_id==last_page_id:\n",
    "            current_chunk_index +=1\n",
    "        else:\n",
    "            current_chunk_index = 0\n",
    "    \n",
    "        chunk.metadata[\"id\"] = f\"{current_page_id}:{current_chunk_index}\"\n",
    "        last_page_id = current_page_id\n",
    "    "
   ]
  },
  {
   "cell_type": "code",
   "execution_count": 8,
   "id": "7d25ba18-2440-4480-838a-930a8c8be22e",
   "metadata": {},
   "outputs": [],
   "source": [
    "set_chunk_ids(chunks)"
   ]
  },
  {
   "cell_type": "code",
   "execution_count": 9,
   "id": "610db040-9bea-4e43-8a5c-81eb8a270b99",
   "metadata": {},
   "outputs": [],
   "source": [
    "CHROMA_PATH = \"chroma_dbs\""
   ]
  },
  {
   "cell_type": "code",
   "execution_count": 10,
   "id": "b381ea56-7e2a-42ac-8246-7e68bd44a667",
   "metadata": {},
   "outputs": [],
   "source": [
    "from langchain_chroma import Chroma\n",
    "from langchain.schema.document import Document\n",
    "\n",
    "def add_to_chroma(chunks: list[Document]):\n",
    "    db=Chroma(\n",
    "        persist_directory=CHROMA_PATH, embedding_function=get_embedding_function()\n",
    "    )\n",
    "    existing_items=db.get(include=[])\n",
    "    existing_ids=set(existing_items[\"ids\"])\n",
    "\n",
    "    print(existing_ids)\n",
    "    # Identify the new chunks\n",
    "    new_chunks=[]\n",
    "    for chunk in chunks:\n",
    "        if chunk.metadata[\"id\"] not in existing_ids:\n",
    "            new_chunks.append(chunk)\n",
    "\n",
    "    if len(new_chunks):\n",
    "        print(f\"👉 Adding new documents: {len(new_chunks)}\")\n",
    "        new_chunk_ids = [chunk.metadata[\"id\"] for chunk in new_chunks]\n",
    "        db.add_documents(new_chunks, ids=new_chunk_ids)\n",
    "    else:\n",
    "        print(\"✅ No new documents to add\")\n",
    "\n"
   ]
  },
  {
   "cell_type": "code",
   "execution_count": 11,
   "id": "1bb7ca62-e8a9-4251-8d48-b2b1a1286289",
   "metadata": {},
   "outputs": [
    {
     "name": "stdout",
     "output_type": "stream",
     "text": [
      "set()\n",
      "👉 Adding new documents: 124\n"
     ]
    }
   ],
   "source": [
    "add_to_chroma(chunks)"
   ]
  },
  {
   "cell_type": "markdown",
   "id": "10d788b4-378a-43cd-9003-9567d43281d5",
   "metadata": {},
   "source": [
    "# RESETTING THE DATABASE IF NEEDED (restart Python environment afterwards)"
   ]
  },
  {
   "cell_type": "code",
   "execution_count": 164,
   "id": "9bde608f-f9e5-48a5-943a-aaeaf14d78e2",
   "metadata": {},
   "outputs": [
    {
     "name": "stdout",
     "output_type": "stream",
     "text": [
      "chroma_dbs successfully deleted.\n"
     ]
    }
   ],
   "source": [
    "import shutil\n",
    "import os\n",
    "\n",
    "# Force delete the directory\n",
    "if os.path.exists(CHROMA_PATH):\n",
    "    shutil.rmtree(CHROMA_PATH)\n",
    "\n",
    "# Confirm deletion\n",
    "if not os.path.exists(CHROMA_PATH):\n",
    "    print(f\"{CHROMA_PATH} successfully deleted.\")\n",
    "else:\n",
    "    print(f\"Failed to delete {CHROMA_PATH}.\")\n"
   ]
  },
  {
   "cell_type": "markdown",
   "id": "a9bd3ed4-6f1b-43ad-962c-eef4bc75fb33",
   "metadata": {},
   "source": [
    "# Connecting to the model API"
   ]
  },
  {
   "cell_type": "code",
   "execution_count": 12,
   "id": "6342a212-a6bd-43f4-8f85-f9a237a156ef",
   "metadata": {},
   "outputs": [],
   "source": [
    "\n",
    "from langchain_huggingface import HuggingFaceEndpoint\n",
    "repo_id = \"mistralai/Mixtral-8x7B-Instruct-v0.1\"\n",
    "\n",
    "model_kwargs = {\n",
    "    \"max_length\": 128\n",
    "}\n",
    "\n",
    "\n",
    "llm = HuggingFaceEndpoint(\n",
    "    repo_id=repo_id,\n",
    "    temperature=0.5,\n",
    "    model_kwargs=model_kwargs,\n",
    "    huggingfacehub_api_token=hf_key,\n",
    ")\n"
   ]
  },
  {
   "cell_type": "code",
   "execution_count": 13,
   "id": "0e12a4a6-e778-48ec-8859-71e234235de9",
   "metadata": {},
   "outputs": [],
   "source": [
    "from langchain_core.prompts import ChatPromptTemplate\n",
    "\n",
    "def query_rag(query_text: str):\n",
    "    embedding_function = get_embedding_function()\n",
    "    db = Chroma(\n",
    "        persist_directory = CHROMA_PATH,\n",
    "        embedding_function = embedding_function\n",
    "    )\n",
    "    PROMPT_TEMPLATE = \"\"\"\n",
    "    Answer the question based only on the following context:\n",
    "    {context}\n",
    "\n",
    "    ---\n",
    "    Answer the question based on the above context: {question}\n",
    "    \"\"\"\n",
    "    results = db.similarity_search_with_score(query_text, k=5)\n",
    "    context_text = \"\\n\\n---\\n\\n\".join([doc.page_content for doc,_score in results])\n",
    "    prompt_template = ChatPromptTemplate.from_template(PROMPT_TEMPLATE)\n",
    "    prompt= prompt_template.format(context=context_text, question=query_text)\n",
    "    # Directing the prompt to the model\n",
    "    response_text = llm.invoke(prompt)\n",
    "    print(response_text)"
   ]
  },
  {
   "cell_type": "code",
   "execution_count": 15,
   "id": "c9daff5b-7863-4864-839b-80006ae39053",
   "metadata": {},
   "outputs": [
    {
     "name": "stdout",
     "output_type": "stream",
     "text": [
      "\n",
      "    Scotland is important in football because it is where the new 'combinatory', 'positional' football was developed. This was due to the intelligent adaptability of men taking up a game dominated by players who were bigger and stronger, but less mobile. The new football was not necessarily connected to the highly organized technical division of labour with which players from an industrial working-class background on Clydeside would have been familiar. The early Scottish dribblers and 'ball-players' were celebrated as the heroes of this 'new' football.\n"
     ]
    }
   ],
   "source": [
    "query_rag(\"what is the importance of scotland in football\")"
   ]
  },
  {
   "cell_type": "code",
   "execution_count": null,
   "id": "b5815bb6-6e43-42f3-9124-942967c2db87",
   "metadata": {},
   "outputs": [],
   "source": []
  }
 ],
 "metadata": {
  "kernelspec": {
   "display_name": "Python 3 (ipykernel)",
   "language": "python",
   "name": "python3"
  },
  "language_info": {
   "codemirror_mode": {
    "name": "ipython",
    "version": 3
   },
   "file_extension": ".py",
   "mimetype": "text/x-python",
   "name": "python",
   "nbconvert_exporter": "python",
   "pygments_lexer": "ipython3",
   "version": "3.11.7"
  }
 },
 "nbformat": 4,
 "nbformat_minor": 5
}
